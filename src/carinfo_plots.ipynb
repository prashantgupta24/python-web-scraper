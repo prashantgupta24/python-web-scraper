{
 "cells": [
  {
   "cell_type": "code",
   "execution_count": 1,
   "metadata": {},
   "outputs": [],
   "source": [
    "import pandas as pd\n",
    "import matplotlib.pyplot as plt"
   ]
  },
  {
   "cell_type": "code",
   "execution_count": 2,
   "metadata": {},
   "outputs": [],
   "source": [
    "carDataFrame = pd.read_csv(\"carInfo.csv\")"
   ]
  },
  {
   "cell_type": "code",
   "execution_count": 3,
   "metadata": {},
   "outputs": [
    {
     "name": "stdout",
     "output_type": "stream",
     "text": [
      "                     Cars  Power     Car type  Started  \\\n",
      "0       Ferrari LaFerrari    963        coupe     2013   \n",
      "1      Porsche 918 Spyder    887  convertible     2014   \n",
      "2  Ferrari F12 Berlinetta    740        coupe     2012   \n",
      "3   Lamborghini Aventador    700        coupe     2011   \n",
      "4             Mclaren 675    675        coupe     2015   \n",
      "\n",
      "   End year (2018 if still present)  \n",
      "0                              2018  \n",
      "1                              2016  \n",
      "2                              2018  \n",
      "3                              2018  \n",
      "4                              2018  \n"
     ]
    }
   ],
   "source": [
    "print(carDataFrame.head())"
   ]
  },
  {
   "cell_type": "code",
   "execution_count": 26,
   "metadata": {},
   "outputs": [
    {
     "data": {
      "text/plain": [
       "(array([ 2.,  3.,  8.,  5., 10., 25., 32., 44., 56., 36.]),\n",
       " array([1988. , 1990.9, 1993.8, 1996.7, 1999.6, 2002.5, 2005.4, 2008.3,\n",
       "        2011.2, 2014.1, 2017. ]),\n",
       " <a list of 10 Patch objects>)"
      ]
     },
     "execution_count": 26,
     "metadata": {},
     "output_type": "execute_result"
    },
    {
     "data": {
      "image/png": "[encoded data removed]",
      "text/plain": [
       "<Figure size 432x288 with 1 Axes>"
      ]
     },
     "metadata": {},
     "output_type": "display_data"
    }
   ],
   "source": [
    "carDataFrame=carDataFrame.sort_values(by=[\"Started\"])\n",
    "plt.hist(carDataFrame[\"Started\"])\n",
    "\n",
    "# This shows that the database consists of cars which were mostly introduced after year 2000"
   ]
  },
  {
   "cell_type": "code",
   "execution_count": 27,
   "metadata": {},
   "outputs": [
    {
     "data": {
      "text/plain": [
       "(array([102.,  43.,  41.,  20.,  11.,   1.,   1.,   0.,   1.,   1.]),\n",
       " array([401. , 457.2, 513.4, 569.6, 625.8, 682. , 738.2, 794.4, 850.6,\n",
       "        906.8, 963. ]),\n",
       " <a list of 10 Patch objects>)"
      ]
     },
     "execution_count": 27,
     "metadata": {},
     "output_type": "execute_result"
    },
    {
     "data": {
      "image/png": "[encoded data removed]",
      "text/plain": [
       "<Figure size 432x288 with 1 Axes>"
      ]
     },
     "metadata": {},
     "output_type": "display_data"
    }
   ],
   "source": [
    "carDataFrame=carDataFrame.sort_values(by=[\"Power\"])\n",
    "plt.hist(carDataFrame[\"Power\"])"
   ]
  },
  {
   "cell_type": "code",
   "execution_count": 36,
   "metadata": {},
   "outputs": [
    {
     "data": {
      "text/plain": [
       "<matplotlib.collections.PathCollection at 0x11541a438>"
      ]
     },
     "execution_count": 36,
     "metadata": {},
     "output_type": "execute_result"
    },
    {
     "data": {
      "image/png": "[encoded data removed]",
      "text/plain": [
       "<Figure size 432x288 with 1 Axes>"
      ]
     },
     "metadata": {},
     "output_type": "display_data"
    }
   ],
   "source": [
    "plt.scatter(carDataFrame['Started'], carDataFrame['Power'])"
   ]
  }
 ],
 "metadata": {
  "kernelspec": {
   "display_name": "Python 3",
   "language": "python",
   "name": "python3"
  },
  "language_info": {
   "codemirror_mode": {
    "name": "ipython",
    "version": 3
   },
   "file_extension": ".py",
   "mimetype": "text/x-python",
   "name": "python",
   "nbconvert_exporter": "python",
   "pygments_lexer": "ipython3",
   "version": "3.6.4"
  }
 },
 "nbformat": 4,
 "nbformat_minor": 2
}
