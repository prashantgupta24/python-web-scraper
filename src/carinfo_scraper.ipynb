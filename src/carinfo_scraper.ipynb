{
 "cells": [
  {
   "cell_type": "code",
   "execution_count": 1,
   "metadata": {},
   "outputs": [],
   "source": [
    "import pandas as pd"
   ]
  },
  {
   "cell_type": "code",
   "execution_count": 2,
   "metadata": {},
   "outputs": [],
   "source": [
    "from gather_info import gatherInfoFromURL"
   ]
  },
  {
   "cell_type": "code",
   "execution_count": null,
   "metadata": {
    "scrolled": true
   },
   "outputs": [],
   "source": [
    "carinfo = gatherInfoFromURL(url=\"http://www.cars-data.com/en/sport-cars.html\")"
   ]
  },
  {
   "cell_type": "code",
   "execution_count": null,
   "metadata": {},
   "outputs": [],
   "source": [
    "print(len(carinfo[\"cars\"]))"
   ]
  },
  {
   "cell_type": "code",
   "execution_count": null,
   "metadata": {},
   "outputs": [],
   "source": [
    "carDataFrame = pd.DataFrame({\"Cars\": carinfo.get(\"cars\"), \"Year\": carinfo.get(\"year\"), \"Power\": carinfo.get(\"power\"), \"Car type\": carinfo.get(\"carType\")})"
   ]
  },
  {
   "cell_type": "code",
   "execution_count": null,
   "metadata": {},
   "outputs": [],
   "source": [
    "print(carDataFrame.shape)"
   ]
  },
  {
   "cell_type": "code",
   "execution_count": null,
   "metadata": {},
   "outputs": [],
   "source": [
    "startYear = []\n",
    "endYear = []\n",
    "\n",
    "for year in carDataFrame[\"Year\"]:\n",
    "    splitYear = year.split(\"-\")\n",
    "    startYear.append(int(splitYear[0].strip()))\n",
    "    if splitYear[1].strip() == \"present\":\n",
    "        endYear.append(2018)\n",
    "    else:\n",
    "        endYear.append(int(splitYear[1].strip()))\n",
    "        \n",
    "carDataFrame = carDataFrame.drop(['Year'], axis=1)\n",
    "carDataFrame[\"Started\"] = startYear\n",
    "carDataFrame[\"End year (2018 if still present)\"] = endYear\n",
    "\n",
    "print(carDataFrame.head())\n"
   ]
  },
  {
   "cell_type": "code",
   "execution_count": null,
   "metadata": {},
   "outputs": [],
   "source": [
    "header = [\"Cars\", \"Power\", \"Car type\", \"Started\", \"End year (2018 if still present)\"]\n",
    "carDataFrame.to_csv(\"carInfo.csv\", columns=header, index=False)"
   ]
  },
  {
   "cell_type": "code",
   "execution_count": null,
   "metadata": {},
   "outputs": [],
   "source": []
  }
 ],
 "metadata": {
  "kernelspec": {
   "display_name": "Python 3",
   "language": "python",
   "name": "python3"
  },
  "language_info": {
   "codemirror_mode": {
    "name": "ipython",
    "version": 3
   },
   "file_extension": ".py",
   "mimetype": "text/x-python",
   "name": "python",
   "nbconvert_exporter": "python",
   "pygments_lexer": "ipython3",
   "version": "3.6.4"
  }
 },
 "nbformat": 4,
 "nbformat_minor": 2
}
