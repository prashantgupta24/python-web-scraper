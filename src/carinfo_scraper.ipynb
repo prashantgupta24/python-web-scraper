{
 "cells": [
  {
   "cell_type": "code",
   "execution_count": 1,
   "metadata": {},
   "outputs": [],
   "source": [
    "import pandas as pd"
   ]
  },
  {
   "cell_type": "code",
   "execution_count": 2,
   "metadata": {},
   "outputs": [],
   "source": [
    "from gather_info import gatherInfoFromURL"
   ]
  },
  {
   "cell_type": "code",
   "execution_count": 3,
   "metadata": {
    "scrolled": true
   },
   "outputs": [
    {
     "name": "stdout",
     "output_type": "stream",
     "text": [
      "Found 48 cars on page : http://www.cars-data.com/en/sport-cars.html\n",
      "Found 48 cars on page : http://www.cars-data.com/en/sport-cars/page2.html\n",
      "Found 48 cars on page : http://www.cars-data.com/en/sport-cars/page3.html\n",
      "Found 48 cars on page : http://www.cars-data.com/en/sport-cars/page4.html\n",
      "Found 29 cars on page : http://www.cars-data.com/en/sport-cars/page5.html\n"
     ]
    }
   ],
   "source": [
    "carinfo = gatherInfoFromURL(url=\"http://www.cars-data.com/en/sport-cars.html\")"
   ]
  },
  {
   "cell_type": "code",
   "execution_count": 4,
   "metadata": {},
   "outputs": [
    {
     "name": "stdout",
     "output_type": "stream",
     "text": [
      "221\n"
     ]
    }
   ],
   "source": [
    "print(len(carinfo[\"cars\"]))"
   ]
  },
  {
   "cell_type": "code",
   "execution_count": 5,
   "metadata": {},
   "outputs": [],
   "source": [
    "carDataFrame = pd.DataFrame({\"Cars\": carinfo.get(\"cars\"), \"Year\": carinfo.get(\"year\"), \"Power\": carinfo.get(\"power\"), \"Car type\": carinfo.get(\"carType\")})"
   ]
  },
  {
   "cell_type": "code",
   "execution_count": 6,
   "metadata": {},
   "outputs": [
    {
     "name": "stdout",
     "output_type": "stream",
     "text": [
      "(221, 4)\n"
     ]
    }
   ],
   "source": [
    "print(carDataFrame.shape)"
   ]
  },
  {
   "cell_type": "code",
   "execution_count": 7,
   "metadata": {},
   "outputs": [
    {
     "name": "stdout",
     "output_type": "stream",
     "text": [
      "      Car type                    Cars Power  Started  \\\n",
      "0        coupe       Ferrari LaFerrari   963     2013   \n",
      "1  convertible      Porsche 918 Spyder   887     2014   \n",
      "2        coupe  Ferrari F12 Berlinetta   740     2012   \n",
      "3        coupe   Lamborghini Aventador   700     2011   \n",
      "4        coupe             Mclaren 675   675     2015   \n",
      "\n",
      "   End year (2018 if still present)  \n",
      "0                              2018  \n",
      "1                              2016  \n",
      "2                              2018  \n",
      "3                              2018  \n",
      "4                              2018  \n"
     ]
    }
   ],
   "source": [
    "startYear = []\n",
    "endYear = []\n",
    "\n",
    "for year in carDataFrame[\"Year\"]:\n",
    "    splitYear = year.split(\"-\")\n",
    "    startYear.append(int(splitYear[0].strip()))\n",
    "    if splitYear[1].strip() == \"present\":\n",
    "        endYear.append(2018)\n",
    "    else:\n",
    "        endYear.append(int(splitYear[1].strip()))\n",
    "        \n",
    "carDataFrame = carDataFrame.drop(['Year'], axis=1)\n",
    "carDataFrame[\"Started\"] = startYear\n",
    "carDataFrame[\"End year (2018 if still present)\"] = endYear\n",
    "\n",
    "print(carDataFrame.head())\n"
   ]
  },
  {
   "cell_type": "code",
   "execution_count": 8,
   "metadata": {},
   "outputs": [],
   "source": [
    "header = [\"Cars\", \"Power\", \"Car type\", \"Started\", \"End year (2018 if still present)\"]\n",
    "carDataFrame.to_csv(\"carInfo.csv\", columns=header, index=False)"
   ]
  },
  {
   "cell_type": "code",
   "execution_count": null,
   "metadata": {},
   "outputs": [],
   "source": []
  }
 ],
 "metadata": {
  "kernelspec": {
   "display_name": "Python 3",
   "language": "python",
   "name": "python3"
  },
  "language_info": {
   "codemirror_mode": {
    "name": "ipython",
    "version": 3
   },
   "file_extension": ".py",
   "mimetype": "text/x-python",
   "name": "python",
   "nbconvert_exporter": "python",
   "pygments_lexer": "ipython3",
   "version": "3.6.4"
  }
 },
 "nbformat": 4,
 "nbformat_minor": 2
}
